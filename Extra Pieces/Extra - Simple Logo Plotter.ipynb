{
 "cells": [
  {
   "cell_type": "code",
   "execution_count": 1,
   "id": "9c06064a",
   "metadata": {},
   "outputs": [],
   "source": [
    "from matplotlib import pyplot as plt\n",
    "import logomaker as lm\n",
    "import os, math\n",
    "import numpy as np\n",
    "from enum import Enum"
   ]
  },
  {
   "cell_type": "code",
   "execution_count": null,
   "id": "43f422f5",
   "metadata": {},
   "outputs": [],
   "source": []
  },
  {
   "cell_type": "code",
   "execution_count": 2,
   "id": "1113c6aa",
   "metadata": {},
   "outputs": [],
   "source": [
    "class Y_AXIS_UNIT(Enum):\n",
    "    COUNTS = 1\n",
    "    BITS = 2\n",
    "\n",
    "def generate_logos(\n",
    "    seqs,\n",
    "    save_loc_and_name, \n",
    "    displaysavefilename_astitle, \n",
    "    y_axis_units=Y_AXIS_UNIT.BITS\n",
    "):\n",
    "    \n",
    "    fig, axs = plt.subplots(1,1,figsize=(2.5,0.8)) ## Change Weblogo size\n",
    "    if displaysavefilename_astitle == True:\n",
    "        title_wl = os.path.splitext(os.path.basename(save_loc_and_name))[0]\n",
    "        axs.set_title(title_wl, size=8)\n",
    "    axs.set_xticks([])\n",
    "    axs.spines['right'].set_visible(False)\n",
    "    axs.spines['top'].set_visible(False)\n",
    "    if y_axis_units == Y_AXIS_UNIT.BITS:\n",
    "        if len(seqs) < 15: pseudocnt = 0.1\n",
    "        else: pseudocnt = 0.2\n",
    "        counts_mat = lm.alignment_to_matrix(seqs, to_type='information',characters_to_ignore='-',pseudocount=pseudocnt)\n",
    "        the_y_max = math.ceil(counts_mat.sum(axis=1).to_numpy().max())\n",
    "        if the_y_max > 4.0: the_y_max = 4.0\n",
    "        logo = lm.Logo(counts_mat, ax=axs, color_scheme=\"hydrophobicity\")\n",
    "        axs.set_ylim([0,the_y_max])\n",
    "        plt.yticks([0,the_y_max], fontsize = 10) \n",
    "        plt.ylabel('Bits', size = 10, labelpad=-10)\n",
    "        # plt.xlabel(\"Alignment Position\")\n",
    "        plt.savefig(save_loc_and_name,dpi=300,bbox_inches='tight')\n",
    "        plt.show()\n",
    "    elif y_axis_units == Y_AXIS_UNIT.COUNTS:\n",
    "        if len(seqs) < 15: pseudocnt = 0.1\n",
    "        else: pseudocnt = 0.2\n",
    "        counts_mat = lm.alignment_to_matrix(seqs, to_type='counts',characters_to_ignore='-',pseudocount=pseudocnt)\n",
    "        the_y_max = math.ceil(counts_mat.sum(axis=1).to_numpy().max())\n",
    "        logo = lm.Logo(counts_mat, ax=axs, color_scheme=\"hydrophobicity\")\n",
    "        axs.set_ylim([0,the_y_max])\n",
    "        plt.yticks([0,the_y_max], fontsize = 10) \n",
    "        plt.ylabel('Residue Counts', size = 10, labelpad=-10)\n",
    "        # plt.xlabel(\"Alignment Position\")\n",
    "        plt.savefig(save_loc_and_name,dpi=300,bbox_inches='tight')\n",
    "        plt.show()"
   ]
  },
  {
   "cell_type": "code",
   "execution_count": 3,
   "id": "147a8cac",
   "metadata": {},
   "outputs": [],
   "source": [
    "example_sequences = [\n",
    "'VWRDAEDYATFPK',\n",
    "'TPDWDGPDYAAHK',\n",
    "'EMDAPDYASWEPK',\n",
    "'SVEDDAPDYADFK',\n",
    "'MMDMDLQDYAGLK',\n",
    "'YEQMHDVEDYSQK',\n",
    "'EFDKHDYAAYPRK',\n",
    "'PMFWDVPDYSGMK',\n",
    "'WKFRDDKMDYADK',\n",
    "'VDDLRYASSNQLK',\n",
    "'VGQMWDMPDYAGK',\n",
    "'ALFDLEDYAKLNK',\n",
    "'PDNRLDLKDYAFK',\n",
    "'WEWSTDPRDYSQK',\n",
    "'VKWNDVMDYADPK',\n",
    "'MQYLPDLMDYDSK']"
   ]
  },
  {
   "cell_type": "code",
   "execution_count": 5,
   "id": "2fc09f40",
   "metadata": {},
   "outputs": [
    {
     "data": {
      "image/png": "[encoded data removed]",
      "text/plain": [
       "<Figure size 180x57.6 with 1 Axes>"
      ]
     },
     "metadata": {
      "needs_background": "light"
     },
     "output_type": "display_data"
    }
   ],
   "source": [
    "generate_logos(example_sequences, 'Example Logo Plot.png', \n",
    "               displaysavefilename_astitle = False, y_axis_units = Y_AXIS_UNIT.BITS)"
   ]
  },
  {
   "cell_type": "code",
   "execution_count": null,
   "id": "31c34552",
   "metadata": {},
   "outputs": [],
   "source": []
  },
  {
   "cell_type": "code",
   "execution_count": null,
   "id": "cbab5015",
   "metadata": {},
   "outputs": [],
   "source": []
  },
  {
   "cell_type": "code",
   "execution_count": null,
   "id": "e3d462ea",
   "metadata": {},
   "outputs": [],
   "source": []
  }
 ],
 "metadata": {
  "kernelspec": {
   "display_name": "Python 3 (ipykernel)",
   "language": "python",
   "name": "python3"
  },
  "language_info": {
   "codemirror_mode": {
    "name": "ipython",
    "version": 3
   },
   "file_extension": ".py",
   "mimetype": "text/x-python",
   "name": "python",
   "nbconvert_exporter": "python",
   "pygments_lexer": "ipython3",
   "version": "3.9.12"
  }
 },
 "nbformat": 4,
 "nbformat_minor": 5
}
